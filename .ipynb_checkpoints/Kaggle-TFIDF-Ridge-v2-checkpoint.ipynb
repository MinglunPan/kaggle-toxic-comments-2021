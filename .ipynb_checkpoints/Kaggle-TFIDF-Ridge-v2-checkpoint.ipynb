{
 "cells": [
  {
   "cell_type": "code",
   "execution_count": 1,
   "id": "767f5232",
   "metadata": {},
   "outputs": [],
   "source": [
    "import pandas as pd\n",
    "import os\n",
    "import torch\n",
    "import numpy as np\n",
    "from tqdm.notebook import tqdm\n",
    "import random"
   ]
  },
  {
   "cell_type": "code",
   "execution_count": 2,
   "id": "4ea878eb",
   "metadata": {},
   "outputs": [],
   "source": [
    "import gc"
   ]
  },
  {
   "cell_type": "code",
   "execution_count": 3,
   "id": "9e28ff86",
   "metadata": {},
   "outputs": [
    {
     "data": {
      "text/plain": [
       "<module 'Embedding' from '/home/adrian/Projects/Competition/kaggle-toxic-comments-2021/Embedding.py'>"
      ]
     },
     "execution_count": 3,
     "metadata": {},
     "output_type": "execute_result"
    }
   ],
   "source": [
    "from Config import *\n",
    "import TextDataFrame as tdf\n",
    "import utils\n",
    "import Embedding as eb\n",
    "\n",
    "import imp\n",
    "imp.reload(tdf)\n",
    "imp.reload(utils)\n",
    "imp.reload(eb)"
   ]
  },
  {
   "cell_type": "code",
   "execution_count": 4,
   "id": "d9875356",
   "metadata": {},
   "outputs": [],
   "source": [
    "utils.set_seed()"
   ]
  },
  {
   "cell_type": "markdown",
   "id": "a2f38709",
   "metadata": {},
   "source": [
    "### 1. Read Data"
   ]
  },
  {
   "cell_type": "code",
   "execution_count": 5,
   "id": "9ffc536a",
   "metadata": {},
   "outputs": [
    {
     "name": "stdout",
     "output_type": "stream",
     "text": [
      "total 20\r\n",
      "drwxr-xr-x 2 adrian adrian 4096 Dec 18 09:29 toxic-comment-classification-challenge\r\n",
      "drwxr-xr-x 2 adrian adrian 4096 Dec 18 09:30 multilingual-toxic-comment-classification\r\n",
      "drwxr-xr-x 2 adrian adrian 4096 Dec 18 09:30 toxic-severity-rating\r\n",
      "drwxr-xr-x 2 adrian adrian 4096 Dec 18 09:31 unintended-bias-in-toxicity-classification\r\n",
      "drwxr-xr-x 4 adrian adrian 4096 Dec 26 19:21 ruddit-jigsaw-dataset\r\n"
     ]
    }
   ],
   "source": [
    "!ls -ltr {DATA_PATH}"
   ]
  },
  {
   "cell_type": "code",
   "execution_count": 6,
   "id": "9510490b",
   "metadata": {},
   "outputs": [],
   "source": [
    "df_processor = tdf.DatasetProcessor(DEFAULT_CLEAN_PROCEDURE)"
   ]
  },
  {
   "cell_type": "code",
   "execution_count": 7,
   "id": "a435bd8e",
   "metadata": {},
   "outputs": [],
   "source": [
    "data_dict = {}"
   ]
  },
  {
   "cell_type": "markdown",
   "id": "ebcb1e91",
   "metadata": {},
   "source": [
    "#### 1.1 toxic-comment-classification-challenge"
   ]
  },
  {
   "cell_type": "code",
   "execution_count": 8,
   "id": "18845a07",
   "metadata": {},
   "outputs": [
    {
     "name": "stdout",
     "output_type": "stream",
     "text": [
      "total 137136\r\n",
      "-rw-r--r-- 1 adrian adrian 68802655 Jan 18  2018 train.csv\r\n",
      "-rw-r--r-- 1 adrian adrian 60354593 Jan 18  2018 test.csv\r\n",
      "-rw-r--r-- 1 adrian adrian  6279782 Jun 19  2018 sample_submission.csv\r\n",
      "-rw-r--r-- 1 adrian adrian  4976930 Jun 19  2018 test_labels.csv\r\n"
     ]
    }
   ],
   "source": [
    "!ls -ltr {DATA_PATH}/toxic-comment-classification-challenge"
   ]
  },
  {
   "cell_type": "code",
   "execution_count": 9,
   "id": "7485d572",
   "metadata": {},
   "outputs": [],
   "source": [
    "df_train = pd.read_csv(os.path.join(DATA_PATH,\"toxic-comment-classification-challenge/train.csv\"))"
   ]
  },
  {
   "cell_type": "code",
   "execution_count": 10,
   "id": "04597b9b",
   "metadata": {},
   "outputs": [
    {
     "data": {
      "text/plain": [
       "0"
      ]
     },
     "execution_count": 10,
     "metadata": {},
     "output_type": "execute_result"
    }
   ],
   "source": [
    "df_train['comment_text'].duplicated().sum()"
   ]
  },
  {
   "cell_type": "code",
   "execution_count": 11,
   "id": "206aa5e9",
   "metadata": {},
   "outputs": [
    {
     "name": "stdout",
     "output_type": "stream",
     "text": [
      "<class 'pandas.core.frame.DataFrame'>\n",
      "RangeIndex: 159571 entries, 0 to 159570\n",
      "Data columns (total 8 columns):\n",
      " #   Column         Non-Null Count   Dtype \n",
      "---  ------         --------------   ----- \n",
      " 0   id             159571 non-null  object\n",
      " 1   comment_text   159571 non-null  object\n",
      " 2   toxic          159571 non-null  int64 \n",
      " 3   severe_toxic   159571 non-null  int64 \n",
      " 4   obscene        159571 non-null  int64 \n",
      " 5   threat         159571 non-null  int64 \n",
      " 6   insult         159571 non-null  int64 \n",
      " 7   identity_hate  159571 non-null  int64 \n",
      "dtypes: int64(6), object(2)\n",
      "memory usage: 9.7+ MB\n"
     ]
    }
   ],
   "source": [
    "df_train.info()"
   ]
  },
  {
   "cell_type": "code",
   "execution_count": 12,
   "id": "56cd1e60",
   "metadata": {},
   "outputs": [
    {
     "data": {
      "text/html": [
       "<div>\n",
       "<style scoped>\n",
       "    .dataframe tbody tr th:only-of-type {\n",
       "        vertical-align: middle;\n",
       "    }\n",
       "\n",
       "    .dataframe tbody tr th {\n",
       "        vertical-align: top;\n",
       "    }\n",
       "\n",
       "    .dataframe thead th {\n",
       "        text-align: right;\n",
       "    }\n",
       "</style>\n",
       "<table border=\"1\" class=\"dataframe\">\n",
       "  <thead>\n",
       "    <tr style=\"text-align: right;\">\n",
       "      <th></th>\n",
       "      <th>toxic</th>\n",
       "      <th>severe_toxic</th>\n",
       "      <th>obscene</th>\n",
       "      <th>threat</th>\n",
       "      <th>insult</th>\n",
       "      <th>identity_hate</th>\n",
       "    </tr>\n",
       "  </thead>\n",
       "  <tbody>\n",
       "    <tr>\n",
       "      <th>toxic</th>\n",
       "      <td>1.000000</td>\n",
       "      <td>0.308619</td>\n",
       "      <td>0.676515</td>\n",
       "      <td>0.157058</td>\n",
       "      <td>0.647518</td>\n",
       "      <td>0.266009</td>\n",
       "    </tr>\n",
       "    <tr>\n",
       "      <th>severe_toxic</th>\n",
       "      <td>0.308619</td>\n",
       "      <td>1.000000</td>\n",
       "      <td>0.403014</td>\n",
       "      <td>0.123601</td>\n",
       "      <td>0.375807</td>\n",
       "      <td>0.201600</td>\n",
       "    </tr>\n",
       "    <tr>\n",
       "      <th>obscene</th>\n",
       "      <td>0.676515</td>\n",
       "      <td>0.403014</td>\n",
       "      <td>1.000000</td>\n",
       "      <td>0.141179</td>\n",
       "      <td>0.741272</td>\n",
       "      <td>0.286867</td>\n",
       "    </tr>\n",
       "    <tr>\n",
       "      <th>threat</th>\n",
       "      <td>0.157058</td>\n",
       "      <td>0.123601</td>\n",
       "      <td>0.141179</td>\n",
       "      <td>1.000000</td>\n",
       "      <td>0.150022</td>\n",
       "      <td>0.115128</td>\n",
       "    </tr>\n",
       "    <tr>\n",
       "      <th>insult</th>\n",
       "      <td>0.647518</td>\n",
       "      <td>0.375807</td>\n",
       "      <td>0.741272</td>\n",
       "      <td>0.150022</td>\n",
       "      <td>1.000000</td>\n",
       "      <td>0.337736</td>\n",
       "    </tr>\n",
       "    <tr>\n",
       "      <th>identity_hate</th>\n",
       "      <td>0.266009</td>\n",
       "      <td>0.201600</td>\n",
       "      <td>0.286867</td>\n",
       "      <td>0.115128</td>\n",
       "      <td>0.337736</td>\n",
       "      <td>1.000000</td>\n",
       "    </tr>\n",
       "  </tbody>\n",
       "</table>\n",
       "</div>"
      ],
      "text/plain": [
       "                  toxic  severe_toxic   obscene    threat    insult  \\\n",
       "toxic          1.000000      0.308619  0.676515  0.157058  0.647518   \n",
       "severe_toxic   0.308619      1.000000  0.403014  0.123601  0.375807   \n",
       "obscene        0.676515      0.403014  1.000000  0.141179  0.741272   \n",
       "threat         0.157058      0.123601  0.141179  1.000000  0.150022   \n",
       "insult         0.647518      0.375807  0.741272  0.150022  1.000000   \n",
       "identity_hate  0.266009      0.201600  0.286867  0.115128  0.337736   \n",
       "\n",
       "               identity_hate  \n",
       "toxic               0.266009  \n",
       "severe_toxic        0.201600  \n",
       "obscene             0.286867  \n",
       "threat              0.115128  \n",
       "insult              0.337736  \n",
       "identity_hate       1.000000  "
      ]
     },
     "execution_count": 12,
     "metadata": {},
     "output_type": "execute_result"
    }
   ],
   "source": [
    "df_train.corr()"
   ]
  },
  {
   "cell_type": "code",
   "execution_count": 13,
   "id": "2728c8de",
   "metadata": {},
   "outputs": [],
   "source": [
    "data_dict['toxic-comment-classification-challenge'] = df_train"
   ]
  },
  {
   "cell_type": "markdown",
   "id": "798c0ae0",
   "metadata": {},
   "source": [
    "#### 1.2 multilingual-toxic-comment-classification"
   ]
  },
  {
   "cell_type": "code",
   "execution_count": 14,
   "id": "54b30948",
   "metadata": {},
   "outputs": [
    {
     "name": "stdout",
     "output_type": "stream",
     "text": [
      "total 4913992\r\n",
      "-rw-r--r-- 1 adrian adrian  406706887 Sep 28 16:35 jigsaw-toxic-comment-train-processed-seqlen128.csv\r\n",
      "-rw-r--r-- 1 adrian adrian   95538001 Sep 28 16:36 jigsaw-toxic-comment-train.csv\r\n",
      "-rw-r--r-- 1 adrian adrian 3498299507 Sep 28 16:36 jigsaw-unintended-bias-train-processed-seqlen128.csv\r\n",
      "-rw-r--r-- 1 adrian adrian  860317123 Sep 28 16:39 jigsaw-unintended-bias-train.csv\r\n",
      "-rw-r--r-- 1 adrian adrian  122946125 Sep 28 16:40 test-processed-seqlen128.csv\r\n",
      "-rw-r--r-- 1 adrian adrian     627019 Sep 28 16:40 sample_submission.csv\r\n",
      "-rw-r--r-- 1 adrian adrian   28783206 Sep 28 16:40 test.csv\r\n",
      "-rw-r--r-- 1 adrian adrian   14997354 Sep 28 16:40 validation-processed-seqlen128.csv\r\n",
      "-rw-r--r-- 1 adrian adrian     499395 Sep 28 16:40 test_labels.csv\r\n",
      "-rw-r--r-- 1 adrian adrian    3178555 Sep 28 16:40 validation.csv\r\n"
     ]
    }
   ],
   "source": [
    "!ls -ltr {DATA_PATH}/multilingual-toxic-comment-classification"
   ]
  },
  {
   "cell_type": "code",
   "execution_count": 15,
   "id": "ce57c2ed",
   "metadata": {},
   "outputs": [
    {
     "name": "stdout",
     "output_type": "stream",
     "text": [
      "id,comment_text,toxic,severe_toxicity,obscene,identity_attack,insult,threat,asian,atheist,bisexual,black,buddhist,christian,female,heterosexual,hindu,homosexual_gay_or_lesbian,intellectual_or_learning_disability,jewish,latino,male,muslim,other_disability,other_gender,other_race_or_ethnicity,other_religion,other_sexual_orientation,physical_disability,psychiatric_or_mental_illness,transgender,white,created_date,publication_id,parent_id,article_id,rating,funny,wow,sad,likes,disagree,sexual_explicit,identity_annotator_count,toxicity_annotator_count\r\n",
      "59848,\"This is so cool. It's like, 'would you want your mother to read this??' Really great idea, well done!\",0.0,0.0,0.0,0.0,0.0,0.0,,,,,,,,,,,,,,,,,,,,,,,,,2015-09-29 10:50:41.987077+00,2,,2006,rejected,0,0,0,0,0,0.0,0,4\r\n",
      "59849,\"Thank you!! This would make my life a lot less anxiety-inducing. Keep it up, and don't let anyone get in your way!\",0.0,0.0,0.0,0.0,0.0,0.0,,,,,,,,,,,,,,,,,,,,,,,,,2015-09-29 10:50:42.870083+00,2,,2006,rejected,0,0,0,0,0,0.0,0,4\r\n",
      "59852,This is such an urgent design problem; kudos to you for taking it on. Very impressive!,0.0,0.0,0.0,0.0,0.0,0.0,,,,,,,,,,,,,,,,,,,,,,,,,2015-09-29 10:50:45.222647+00,2,,2006,rejected,0,0,0,0,0,0.0,0,4\r\n",
      "59855,Is this something I'll be able to install on my site? When will you be releasing it?,0.0,0.0,0.0,0.0,0.0,0.0,,,,,,,,,,,,,,,,,,,,,,,,,2015-09-29 10:50:47.601894+00,2,,2006,rejected,0,0,0,0,0,0.0,0,4\r\n",
      "cat: write error: Broken pipe\r\n"
     ]
    }
   ],
   "source": [
    "!cat {DATA_PATH}/multilingual-toxic-comment-classification/jigsaw-unintended-bias-train.csv | head -5"
   ]
  },
  {
   "cell_type": "code",
   "execution_count": 16,
   "id": "e31ef249",
   "metadata": {},
   "outputs": [
    {
     "data": {
      "text/plain": [
       "8"
      ]
     },
     "execution_count": 16,
     "metadata": {},
     "output_type": "execute_result"
    }
   ],
   "source": [
    "df_train_1 = pd.read_csv(\n",
    "                    os.path.join(DATA_PATH,\"multilingual-toxic-comment-classification/jigsaw-unintended-bias-train.csv\"),\n",
    "                    usecols = ['id', 'comment_text', 'toxic', 'severe_toxicity', 'obscene', 'identity_attack', 'insult', 'threat']\n",
    "                    )\\\n",
    "                .rename(\n",
    "                    columns = {'severe_toxicity':'severe_toxic','identity_attack':'identity_hate'\n",
    "                    })\n",
    "df_train_2 = pd.read_csv(os.path.join(DATA_PATH,\"multilingual-toxic-comment-classification/jigsaw-toxic-comment-train.csv\"))\n",
    "df_train = pd.concat([df_train_1, df_train_2], axis = 0)\n",
    "df_train = df_train.groupby('comment_text',as_index = False).mean()\n",
    "\n",
    "del df_train_1, df_train_2\n",
    "gc.collect()"
   ]
  },
  {
   "cell_type": "code",
   "execution_count": 17,
   "id": "403855e9",
   "metadata": {},
   "outputs": [],
   "source": [
    "df_train.groupby?"
   ]
  },
  {
   "cell_type": "code",
   "execution_count": 18,
   "id": "3a3e68a6",
   "metadata": {},
   "outputs": [
    {
     "data": {
      "text/plain": [
       "0"
      ]
     },
     "execution_count": 18,
     "metadata": {},
     "output_type": "execute_result"
    }
   ],
   "source": [
    "df_train['comment_text'].duplicated().sum()"
   ]
  },
  {
   "cell_type": "code",
   "execution_count": 19,
   "id": "a11a15be",
   "metadata": {},
   "outputs": [
    {
     "name": "stdout",
     "output_type": "stream",
     "text": [
      "<class 'pandas.core.frame.DataFrame'>\n",
      "Int64Index: 2099954 entries, 0 to 2099953\n",
      "Data columns (total 7 columns):\n",
      " #   Column         Dtype  \n",
      "---  ------         -----  \n",
      " 0   comment_text   object \n",
      " 1   toxic          float64\n",
      " 2   severe_toxic   float64\n",
      " 3   obscene        float64\n",
      " 4   identity_hate  float64\n",
      " 5   insult         float64\n",
      " 6   threat         float64\n",
      "dtypes: float64(6), object(1)\n",
      "memory usage: 128.2+ MB\n"
     ]
    }
   ],
   "source": [
    "df_train.info()"
   ]
  },
  {
   "cell_type": "code",
   "execution_count": 20,
   "id": "66dcde3d",
   "metadata": {},
   "outputs": [
    {
     "data": {
      "text/html": [
       "<div>\n",
       "<style scoped>\n",
       "    .dataframe tbody tr th:only-of-type {\n",
       "        vertical-align: middle;\n",
       "    }\n",
       "\n",
       "    .dataframe tbody tr th {\n",
       "        vertical-align: top;\n",
       "    }\n",
       "\n",
       "    .dataframe thead th {\n",
       "        text-align: right;\n",
       "    }\n",
       "</style>\n",
       "<table border=\"1\" class=\"dataframe\">\n",
       "  <thead>\n",
       "    <tr style=\"text-align: right;\">\n",
       "      <th></th>\n",
       "      <th>toxic</th>\n",
       "      <th>severe_toxic</th>\n",
       "      <th>obscene</th>\n",
       "      <th>identity_hate</th>\n",
       "      <th>insult</th>\n",
       "      <th>threat</th>\n",
       "    </tr>\n",
       "  </thead>\n",
       "  <tbody>\n",
       "    <tr>\n",
       "      <th>toxic</th>\n",
       "      <td>1.000000</td>\n",
       "      <td>0.310023</td>\n",
       "      <td>0.519485</td>\n",
       "      <td>0.418751</td>\n",
       "      <td>0.877831</td>\n",
       "      <td>0.265656</td>\n",
       "    </tr>\n",
       "    <tr>\n",
       "      <th>severe_toxic</th>\n",
       "      <td>0.310023</td>\n",
       "      <td>1.000000</td>\n",
       "      <td>0.362707</td>\n",
       "      <td>0.202598</td>\n",
       "      <td>0.283395</td>\n",
       "      <td>0.186775</td>\n",
       "    </tr>\n",
       "    <tr>\n",
       "      <th>obscene</th>\n",
       "      <td>0.519485</td>\n",
       "      <td>0.362707</td>\n",
       "      <td>1.000000</td>\n",
       "      <td>0.154304</td>\n",
       "      <td>0.465149</td>\n",
       "      <td>0.087991</td>\n",
       "    </tr>\n",
       "    <tr>\n",
       "      <th>identity_hate</th>\n",
       "      <td>0.418751</td>\n",
       "      <td>0.202598</td>\n",
       "      <td>0.154304</td>\n",
       "      <td>1.000000</td>\n",
       "      <td>0.318431</td>\n",
       "      <td>0.143788</td>\n",
       "    </tr>\n",
       "    <tr>\n",
       "      <th>insult</th>\n",
       "      <td>0.877831</td>\n",
       "      <td>0.283395</td>\n",
       "      <td>0.465149</td>\n",
       "      <td>0.318431</td>\n",
       "      <td>1.000000</td>\n",
       "      <td>0.116596</td>\n",
       "    </tr>\n",
       "    <tr>\n",
       "      <th>threat</th>\n",
       "      <td>0.265656</td>\n",
       "      <td>0.186775</td>\n",
       "      <td>0.087991</td>\n",
       "      <td>0.143788</td>\n",
       "      <td>0.116596</td>\n",
       "      <td>1.000000</td>\n",
       "    </tr>\n",
       "  </tbody>\n",
       "</table>\n",
       "</div>"
      ],
      "text/plain": [
       "                  toxic  severe_toxic   obscene  identity_hate    insult  \\\n",
       "toxic          1.000000      0.310023  0.519485       0.418751  0.877831   \n",
       "severe_toxic   0.310023      1.000000  0.362707       0.202598  0.283395   \n",
       "obscene        0.519485      0.362707  1.000000       0.154304  0.465149   \n",
       "identity_hate  0.418751      0.202598  0.154304       1.000000  0.318431   \n",
       "insult         0.877831      0.283395  0.465149       0.318431  1.000000   \n",
       "threat         0.265656      0.186775  0.087991       0.143788  0.116596   \n",
       "\n",
       "                 threat  \n",
       "toxic          0.265656  \n",
       "severe_toxic   0.186775  \n",
       "obscene        0.087991  \n",
       "identity_hate  0.143788  \n",
       "insult         0.116596  \n",
       "threat         1.000000  "
      ]
     },
     "execution_count": 20,
     "metadata": {},
     "output_type": "execute_result"
    }
   ],
   "source": [
    "df_train.corr()"
   ]
  },
  {
   "cell_type": "code",
   "execution_count": 21,
   "id": "cf511a25",
   "metadata": {},
   "outputs": [],
   "source": [
    "data_dict[\"multilingual-toxic-comment-classification\"] = df_train"
   ]
  },
  {
   "cell_type": "markdown",
   "id": "a57deb34",
   "metadata": {},
   "source": [
    "#### 1.3 unintended-bias-in-toxicity-classification"
   ]
  },
  {
   "cell_type": "code",
   "execution_count": 22,
   "id": "e1eaa7bf",
   "metadata": {},
   "outputs": [
    {
     "name": "stdout",
     "output_type": "stream",
     "text": [
      "total 2320180\r\n",
      "-rw-r--r-- 1 adrian adrian 916052376 Jul 16  2020 all_data.csv\r\n",
      "-rw-r--r-- 1 adrian adrian 106388260 Jul 16  2020 identity_individual_annotations.csv\r\n",
      "-rw-r--r-- 1 adrian adrian  29925195 Jul 16  2020 test.csv\r\n",
      "-rw-r--r-- 1 adrian adrian   1167854 Jul 16  2020 sample_submission.csv\r\n",
      "-rw-r--r-- 1 adrian adrian  44107259 Jul 16  2020 test_private_expanded.csv\r\n",
      "-rw-r--r-- 1 adrian adrian  44336246 Jul 16  2020 test_public_expanded.csv\r\n",
      "-rw-r--r-- 1 adrian adrian 417648663 Jul 16  2020 toxicity_individual_annotations.csv\r\n",
      "-rw-r--r-- 1 adrian adrian 816211476 Jul 16  2020 train.csv\r\n"
     ]
    }
   ],
   "source": [
    "!ls -ltr {DATA_PATH}/unintended-bias-in-toxicity-classification"
   ]
  },
  {
   "cell_type": "code",
   "execution_count": 23,
   "id": "35f2d2aa",
   "metadata": {},
   "outputs": [
    {
     "name": "stdout",
     "output_type": "stream",
     "text": [
      "id,comment_text,split,created_date,publication_id,parent_id,article_id,rating,funny,wow,sad,likes,disagree,toxicity,severe_toxicity,obscene,sexual_explicit,identity_attack,insult,threat,male,female,transgender,other_gender,heterosexual,homosexual_gay_or_lesbian,bisexual,other_sexual_orientation,christian,jewish,muslim,hindu,buddhist,atheist,other_religion,black,white,asian,latino,other_race_or_ethnicity,physical_disability,intellectual_or_learning_disability,psychiatric_or_mental_illness,other_disability,identity_annotator_count,toxicity_annotator_count\r\n",
      "1083994,He got his money... now he lies in wait till after the election in 2 yrs.... dirty politicians need to be afraid of Tar and feathers again... but they aren't and so the people get screwed.,train,2017-03-06 15:21:53.675241+00,21,,317120,approved,0,0,0,2,0,0.373134328358209,0.04477611940298507,0.08955223880597014,0.01492537313432836,0.0,0.34328358208955223,0.01492537313432836,,,,,,,,,,,,,,,,,,,,,,,,,0,67\r\n",
      "650904,Mad dog will surely put the liberals in mental hospitals. Boorah,train,2016-12-02 16:44:21.329535+00,21,,154086,approved,0,0,1,2,0,0.6052631578947368,0.013157894736842105,0.06578947368421052,0.013157894736842105,0.09210526315789473,0.5657894736842105,0.06578947368421052,,,,,,,,,,,,,,,,,,,,,,,,,0,76\r\n",
      "cat: write error: Broken pipe\r\n"
     ]
    }
   ],
   "source": [
    "!cat {DATA_PATH}/unintended-bias-in-toxicity-classification/all_data.csv | head -3"
   ]
  },
  {
   "cell_type": "code",
   "execution_count": 24,
   "id": "edbe266f",
   "metadata": {},
   "outputs": [],
   "source": [
    "df_train = pd.read_csv(\n",
    "                    os.path.join(DATA_PATH,\"unintended-bias-in-toxicity-classification/all_data.csv\"),\n",
    "                    usecols = [\"id\",\"comment_text\",\"toxicity\",\"severe_toxicity\",\"obscene\",\n",
    "                               \"sexual_explicit\",\"identity_attack\",\"insult\",\"threat\"]\n",
    "                    )"
   ]
  },
  {
   "cell_type": "code",
   "execution_count": 25,
   "id": "aef340c4",
   "metadata": {},
   "outputs": [
    {
     "data": {
      "text/plain": [
       "27600"
      ]
     },
     "execution_count": 25,
     "metadata": {},
     "output_type": "execute_result"
    }
   ],
   "source": [
    "df_train['comment_text'].duplicated().sum()"
   ]
  },
  {
   "cell_type": "code",
   "execution_count": 26,
   "id": "d16984e1",
   "metadata": {},
   "outputs": [],
   "source": [
    "df_train = df_train.groupby('comment_text',as_index = False).mean()"
   ]
  },
  {
   "cell_type": "code",
   "execution_count": 27,
   "id": "e8a9a66b",
   "metadata": {},
   "outputs": [
    {
     "name": "stdout",
     "output_type": "stream",
     "text": [
      "<class 'pandas.core.frame.DataFrame'>\n",
      "Int64Index: 1971915 entries, 0 to 1971914\n",
      "Data columns (total 9 columns):\n",
      " #   Column           Dtype  \n",
      "---  ------           -----  \n",
      " 0   comment_text     object \n",
      " 1   id               float64\n",
      " 2   toxicity         float64\n",
      " 3   severe_toxicity  float64\n",
      " 4   obscene          float64\n",
      " 5   sexual_explicit  float64\n",
      " 6   identity_attack  float64\n",
      " 7   insult           float64\n",
      " 8   threat           float64\n",
      "dtypes: float64(8), object(1)\n",
      "memory usage: 150.4+ MB\n"
     ]
    }
   ],
   "source": [
    "df_train.info()"
   ]
  },
  {
   "cell_type": "code",
   "execution_count": 28,
   "id": "76d5e67d",
   "metadata": {},
   "outputs": [
    {
     "data": {
      "text/html": [
       "<div>\n",
       "<style scoped>\n",
       "    .dataframe tbody tr th:only-of-type {\n",
       "        vertical-align: middle;\n",
       "    }\n",
       "\n",
       "    .dataframe tbody tr th {\n",
       "        vertical-align: top;\n",
       "    }\n",
       "\n",
       "    .dataframe thead th {\n",
       "        text-align: right;\n",
       "    }\n",
       "</style>\n",
       "<table border=\"1\" class=\"dataframe\">\n",
       "  <thead>\n",
       "    <tr style=\"text-align: right;\">\n",
       "      <th></th>\n",
       "      <th>id</th>\n",
       "      <th>toxicity</th>\n",
       "      <th>severe_toxicity</th>\n",
       "      <th>obscene</th>\n",
       "      <th>sexual_explicit</th>\n",
       "      <th>identity_attack</th>\n",
       "      <th>insult</th>\n",
       "      <th>threat</th>\n",
       "    </tr>\n",
       "  </thead>\n",
       "  <tbody>\n",
       "    <tr>\n",
       "      <th>id</th>\n",
       "      <td>1.000000</td>\n",
       "      <td>0.004453</td>\n",
       "      <td>0.001063</td>\n",
       "      <td>-0.005217</td>\n",
       "      <td>-0.005064</td>\n",
       "      <td>0.010668</td>\n",
       "      <td>0.003423</td>\n",
       "      <td>0.001537</td>\n",
       "    </tr>\n",
       "    <tr>\n",
       "      <th>toxicity</th>\n",
       "      <td>0.004453</td>\n",
       "      <td>1.000000</td>\n",
       "      <td>0.393375</td>\n",
       "      <td>0.492872</td>\n",
       "      <td>0.252374</td>\n",
       "      <td>0.449990</td>\n",
       "      <td>0.928195</td>\n",
       "      <td>0.287775</td>\n",
       "    </tr>\n",
       "    <tr>\n",
       "      <th>severe_toxicity</th>\n",
       "      <td>0.001063</td>\n",
       "      <td>0.393375</td>\n",
       "      <td>1.000000</td>\n",
       "      <td>0.340632</td>\n",
       "      <td>0.196936</td>\n",
       "      <td>0.256811</td>\n",
       "      <td>0.324829</td>\n",
       "      <td>0.277658</td>\n",
       "    </tr>\n",
       "    <tr>\n",
       "      <th>obscene</th>\n",
       "      <td>-0.005217</td>\n",
       "      <td>0.492872</td>\n",
       "      <td>0.340632</td>\n",
       "      <td>1.000000</td>\n",
       "      <td>0.333652</td>\n",
       "      <td>0.124341</td>\n",
       "      <td>0.426581</td>\n",
       "      <td>0.091125</td>\n",
       "    </tr>\n",
       "    <tr>\n",
       "      <th>sexual_explicit</th>\n",
       "      <td>-0.005064</td>\n",
       "      <td>0.252374</td>\n",
       "      <td>0.196936</td>\n",
       "      <td>0.333652</td>\n",
       "      <td>1.000000</td>\n",
       "      <td>0.117696</td>\n",
       "      <td>0.145004</td>\n",
       "      <td>0.088448</td>\n",
       "    </tr>\n",
       "    <tr>\n",
       "      <th>identity_attack</th>\n",
       "      <td>0.010668</td>\n",
       "      <td>0.449990</td>\n",
       "      <td>0.256811</td>\n",
       "      <td>0.124341</td>\n",
       "      <td>0.117696</td>\n",
       "      <td>1.000000</td>\n",
       "      <td>0.310767</td>\n",
       "      <td>0.146268</td>\n",
       "    </tr>\n",
       "    <tr>\n",
       "      <th>insult</th>\n",
       "      <td>0.003423</td>\n",
       "      <td>0.928195</td>\n",
       "      <td>0.324829</td>\n",
       "      <td>0.426581</td>\n",
       "      <td>0.145004</td>\n",
       "      <td>0.310767</td>\n",
       "      <td>1.000000</td>\n",
       "      <td>0.108939</td>\n",
       "    </tr>\n",
       "    <tr>\n",
       "      <th>threat</th>\n",
       "      <td>0.001537</td>\n",
       "      <td>0.287775</td>\n",
       "      <td>0.277658</td>\n",
       "      <td>0.091125</td>\n",
       "      <td>0.088448</td>\n",
       "      <td>0.146268</td>\n",
       "      <td>0.108939</td>\n",
       "      <td>1.000000</td>\n",
       "    </tr>\n",
       "  </tbody>\n",
       "</table>\n",
       "</div>"
      ],
      "text/plain": [
       "                       id  toxicity  severe_toxicity   obscene  \\\n",
       "id               1.000000  0.004453         0.001063 -0.005217   \n",
       "toxicity         0.004453  1.000000         0.393375  0.492872   \n",
       "severe_toxicity  0.001063  0.393375         1.000000  0.340632   \n",
       "obscene         -0.005217  0.492872         0.340632  1.000000   \n",
       "sexual_explicit -0.005064  0.252374         0.196936  0.333652   \n",
       "identity_attack  0.010668  0.449990         0.256811  0.124341   \n",
       "insult           0.003423  0.928195         0.324829  0.426581   \n",
       "threat           0.001537  0.287775         0.277658  0.091125   \n",
       "\n",
       "                 sexual_explicit  identity_attack    insult    threat  \n",
       "id                     -0.005064         0.010668  0.003423  0.001537  \n",
       "toxicity                0.252374         0.449990  0.928195  0.287775  \n",
       "severe_toxicity         0.196936         0.256811  0.324829  0.277658  \n",
       "obscene                 0.333652         0.124341  0.426581  0.091125  \n",
       "sexual_explicit         1.000000         0.117696  0.145004  0.088448  \n",
       "identity_attack         0.117696         1.000000  0.310767  0.146268  \n",
       "insult                  0.145004         0.310767  1.000000  0.108939  \n",
       "threat                  0.088448         0.146268  0.108939  1.000000  "
      ]
     },
     "execution_count": 28,
     "metadata": {},
     "output_type": "execute_result"
    }
   ],
   "source": [
    "df_train.corr()"
   ]
  },
  {
   "cell_type": "code",
   "execution_count": 29,
   "id": "07aa4b49",
   "metadata": {},
   "outputs": [],
   "source": [
    "data_dict[\"unintended-bias-in-toxicity-classification\"] = df_train"
   ]
  },
  {
   "cell_type": "markdown",
   "id": "09885189",
   "metadata": {},
   "source": [
    "#### 1.4 ruddit-jigsaw-dataset"
   ]
  },
  {
   "cell_type": "code",
   "execution_count": 30,
   "id": "4c7e0c28",
   "metadata": {},
   "outputs": [
    {
     "name": "stdout",
     "output_type": "stream",
     "text": [
      "total 32512\r\n",
      "-rw-r--r-- 1 adrian adrian  4077200 Dec  1 11:48 Ruddit_individual_annotations.csv\r\n",
      "-rw-r--r-- 1 adrian adrian   128343 Dec  1 11:48 Ruddit.csv\r\n",
      "-rw-r--r-- 1 adrian adrian      265 Dec  1 11:48 ReadMe.md\r\n",
      "-rw-r--r-- 1 adrian adrian   115216 Dec  1 11:48 sample_input_file.csv\r\n",
      "-rw-r--r-- 1 adrian adrian  1835021 Dec  1 11:48 ruddit_with_text.csv\r\n",
      "-rw-r--r-- 1 adrian adrian       52 Dec  1 11:48 post_with_issues.csv\r\n",
      "-rw-r--r-- 1 adrian adrian 15674990 Dec  1 11:48 node_dictionary.npy\r\n",
      "-rw-r--r-- 1 adrian adrian     1354 Dec  1 11:48 load_node_dictionary.py\r\n",
      "-rw-r--r-- 1 adrian adrian      454 Dec  1 11:48 identityterms_group.txt\r\n",
      "-rw-r--r-- 1 adrian adrian     8754 Dec  1 11:48 create_dataset_variants.py\r\n",
      "-rw-r--r-- 1 adrian adrian 11419592 Dec  1 11:48 Thread_structure.txt\r\n"
     ]
    }
   ],
   "source": [
    "!ls -ltr {DATA_PATH}/ruddit-jigsaw-dataset/Dataset"
   ]
  },
  {
   "cell_type": "code",
   "execution_count": 31,
   "id": "7ad629b1",
   "metadata": {},
   "outputs": [
    {
     "name": "stdout",
     "output_type": "stream",
     "text": [
      "post_id,comment_id,txt,url,offensiveness_score\r\n",
      "42g75o,cza1q49,\"> The difference in average earnings between men and women can be explained by taking into account relevant factors.\r\n",
      "\r\n",
      "cat: write error: Broken pipe\r\n"
     ]
    }
   ],
   "source": [
    "!cat {DATA_PATH}/ruddit-jigsaw-dataset/Dataset/ruddit_with_text.csv | head -3"
   ]
  },
  {
   "cell_type": "code",
   "execution_count": 32,
   "id": "80a279e9",
   "metadata": {},
   "outputs": [],
   "source": [
    "df_train = pd.read_csv(\n",
    "                    os.path.join(DATA_PATH,\"ruddit-jigsaw-dataset/Dataset/ruddit_with_text.csv\"),\n",
    "                    usecols = ['comment_id', 'txt','offensiveness_score']\n",
    "                    )"
   ]
  },
  {
   "cell_type": "code",
   "execution_count": 33,
   "id": "12b8db0c",
   "metadata": {},
   "outputs": [
    {
     "data": {
      "text/plain": [
       "126"
      ]
     },
     "execution_count": 33,
     "metadata": {},
     "output_type": "execute_result"
    }
   ],
   "source": [
    "df_train['txt'].duplicated().sum()"
   ]
  },
  {
   "cell_type": "code",
   "execution_count": 34,
   "id": "b7f8f6e1",
   "metadata": {},
   "outputs": [],
   "source": [
    "df_train = df_train.groupby('txt',as_index = False).mean()"
   ]
  },
  {
   "cell_type": "code",
   "execution_count": 35,
   "id": "6ab4829d",
   "metadata": {},
   "outputs": [
    {
     "name": "stdout",
     "output_type": "stream",
     "text": [
      "<class 'pandas.core.frame.DataFrame'>\n",
      "Int64Index: 5712 entries, 0 to 5711\n",
      "Data columns (total 2 columns):\n",
      " #   Column               Non-Null Count  Dtype  \n",
      "---  ------               --------------  -----  \n",
      " 0   txt                  5712 non-null   object \n",
      " 1   offensiveness_score  5712 non-null   float64\n",
      "dtypes: float64(1), object(1)\n",
      "memory usage: 133.9+ KB\n"
     ]
    }
   ],
   "source": [
    "df_train.info()"
   ]
  },
  {
   "cell_type": "code",
   "execution_count": 36,
   "id": "f6d6d712",
   "metadata": {},
   "outputs": [
    {
     "data": {
      "text/html": [
       "<div>\n",
       "<style scoped>\n",
       "    .dataframe tbody tr th:only-of-type {\n",
       "        vertical-align: middle;\n",
       "    }\n",
       "\n",
       "    .dataframe tbody tr th {\n",
       "        vertical-align: top;\n",
       "    }\n",
       "\n",
       "    .dataframe thead th {\n",
       "        text-align: right;\n",
       "    }\n",
       "</style>\n",
       "<table border=\"1\" class=\"dataframe\">\n",
       "  <thead>\n",
       "    <tr style=\"text-align: right;\">\n",
       "      <th></th>\n",
       "      <th>offensiveness_score</th>\n",
       "    </tr>\n",
       "  </thead>\n",
       "  <tbody>\n",
       "    <tr>\n",
       "      <th>offensiveness_score</th>\n",
       "      <td>1.0</td>\n",
       "    </tr>\n",
       "  </tbody>\n",
       "</table>\n",
       "</div>"
      ],
      "text/plain": [
       "                     offensiveness_score\n",
       "offensiveness_score                  1.0"
      ]
     },
     "execution_count": 36,
     "metadata": {},
     "output_type": "execute_result"
    }
   ],
   "source": [
    "df_train.corr()"
   ]
  },
  {
   "cell_type": "code",
   "execution_count": 37,
   "id": "23bd39c6",
   "metadata": {},
   "outputs": [],
   "source": [
    "data_dict[\"ruddit-jigsaw-dataset\"] = df_train"
   ]
  },
  {
   "cell_type": "markdown",
   "id": "a25894d9",
   "metadata": {},
   "source": [
    "#### 1.5 Data Integration"
   ]
  },
  {
   "cell_type": "code",
   "execution_count": 38,
   "id": "79f6b620",
   "metadata": {},
   "outputs": [],
   "source": [
    "rename_columns = {\n",
    "    \"comment_text\":\"text\", \"txt\":\"text\",\n",
    "    \"comment_id\":\"id\",\n",
    "    \"identity_attack\":'identity_hate',\n",
    "    'toxicity':'toxic',\n",
    "    'severe_toxicity':'severe_toxic'\n",
    "}\n",
    "for value in data_dict.values(): value.rename(columns = rename_columns, inplace = True)\n",
    "for value in data_dict.values(): \n",
    "    if 'id' in value.columns: value.drop('id', axis = 1, inplace = True)"
   ]
  },
  {
   "cell_type": "code",
   "execution_count": 39,
   "id": "303e46b3",
   "metadata": {},
   "outputs": [],
   "source": [
    "for value in data_dict.values(): \n",
    "    value = value[['text'] + list(np.sort([x for x in value.columns if x != 'text']))]"
   ]
  },
  {
   "cell_type": "code",
   "execution_count": 40,
   "id": "f8c36dd9",
   "metadata": {},
   "outputs": [],
   "source": [
    "dataset_key_map_dict = {key:idx for idx, key in enumerate(data_dict.keys())}"
   ]
  },
  {
   "cell_type": "code",
   "execution_count": 41,
   "id": "aeff9a41",
   "metadata": {},
   "outputs": [],
   "source": [
    "for key,value in data_dict.items(): \n",
    "    value['source'] = dataset_key_map_dict.get(key)"
   ]
  },
  {
   "cell_type": "code",
   "execution_count": 42,
   "id": "65453b6a",
   "metadata": {},
   "outputs": [
    {
     "data": {
      "text/plain": [
       "{'toxic-comment-classification-challenge': Index(['text', 'toxic', 'severe_toxic', 'obscene', 'threat', 'insult',\n",
       "        'identity_hate', 'source'],\n",
       "       dtype='object'),\n",
       " 'multilingual-toxic-comment-classification': Index(['text', 'toxic', 'severe_toxic', 'obscene', 'identity_hate', 'insult',\n",
       "        'threat', 'source'],\n",
       "       dtype='object'),\n",
       " 'unintended-bias-in-toxicity-classification': Index(['text', 'toxic', 'severe_toxic', 'obscene', 'sexual_explicit',\n",
       "        'identity_hate', 'insult', 'threat', 'source'],\n",
       "       dtype='object'),\n",
       " 'ruddit-jigsaw-dataset': Index(['text', 'offensiveness_score', 'source'], dtype='object')}"
      ]
     },
     "execution_count": 42,
     "metadata": {},
     "output_type": "execute_result"
    }
   ],
   "source": [
    "{key:value.columns for key, value in data_dict.items()}"
   ]
  },
  {
   "cell_type": "code",
   "execution_count": 43,
   "id": "ad9d7d07",
   "metadata": {
    "collapsed": true
   },
   "outputs": [
    {
     "ename": "NameError",
     "evalue": "name 'shared_dataset' is not defined",
     "output_type": "error",
     "traceback": [
      "\u001b[0;31m---------------------------------------------------------------------------\u001b[0m",
      "\u001b[0;31mNameError\u001b[0m                                 Traceback (most recent call last)",
      "\u001b[0;32m<ipython-input-43-46ee299392db>\u001b[0m in \u001b[0;36m<module>\u001b[0;34m\u001b[0m\n\u001b[1;32m      1\u001b[0m \u001b[0mcol\u001b[0m \u001b[0;34m=\u001b[0m \u001b[0;34m'identity_hate'\u001b[0m\u001b[0;34m\u001b[0m\u001b[0;34m\u001b[0m\u001b[0m\n\u001b[0;32m----> 2\u001b[0;31m \u001b[0mpd\u001b[0m\u001b[0;34m.\u001b[0m\u001b[0mconcat\u001b[0m\u001b[0;34m(\u001b[0m\u001b[0;34m[\u001b[0m\u001b[0mdata_dict\u001b[0m\u001b[0;34m[\u001b[0m\u001b[0mdataset\u001b[0m\u001b[0;34m]\u001b[0m\u001b[0;34m[\u001b[0m\u001b[0mcol\u001b[0m\u001b[0;34m]\u001b[0m\u001b[0;34m.\u001b[0m\u001b[0mdescribe\u001b[0m\u001b[0;34m(\u001b[0m\u001b[0;34m)\u001b[0m\u001b[0;34m.\u001b[0m\u001b[0mto_frame\u001b[0m\u001b[0;34m(\u001b[0m\u001b[0mdataset\u001b[0m\u001b[0;34m)\u001b[0m \u001b[0;32mfor\u001b[0m \u001b[0mdataset\u001b[0m \u001b[0;32min\u001b[0m \u001b[0mshared_dataset\u001b[0m\u001b[0;34m]\u001b[0m\u001b[0;34m,\u001b[0m \u001b[0maxis\u001b[0m \u001b[0;34m=\u001b[0m \u001b[0;36m1\u001b[0m\u001b[0;34m)\u001b[0m\u001b[0;34m.\u001b[0m\u001b[0mT\u001b[0m\u001b[0;34m.\u001b[0m\u001b[0mround\u001b[0m\u001b[0;34m(\u001b[0m\u001b[0;36m3\u001b[0m\u001b[0;34m)\u001b[0m\u001b[0;34m\u001b[0m\u001b[0;34m\u001b[0m\u001b[0m\n\u001b[0m",
      "\u001b[0;31mNameError\u001b[0m: name 'shared_dataset' is not defined"
     ]
    }
   ],
   "source": [
    "# col = 'identity_hate'\n",
    "# pd.concat([data_dict[dataset][col].describe().to_frame(dataset) for dataset in shared_dataset], axis = 1).T.round(3)"
   ]
  },
  {
   "cell_type": "code",
   "execution_count": 44,
   "id": "42b4a031",
   "metadata": {},
   "outputs": [
    {
     "data": {
      "text/plain": [
       "150"
      ]
     },
     "execution_count": 44,
     "metadata": {},
     "output_type": "execute_result"
    }
   ],
   "source": [
    "data = pd.concat(data_dict.values(), axis = 0)\n",
    "del data_dict\n",
    "gc.collect()"
   ]
  },
  {
   "cell_type": "code",
   "execution_count": 48,
   "id": "d397ba38",
   "metadata": {},
   "outputs": [],
   "source": [
    "unique_text = data['text'].unique()\n",
    "# text_series = df_processor.clean_text(pd.DataFrame(unique_text)[0])\n",
    "#np.save('all_text_embedding.npy', text_series)"
   ]
  },
  {
   "cell_type": "code",
   "execution_count": 49,
   "id": "bf0b0724",
   "metadata": {},
   "outputs": [],
   "source": [
    "text_series = np.load('all_text_embedding.npy', allow_pickle = True)\n",
    "text_series = pd.DataFrame(text_series, index = unique_text)\n",
    "text_series = text_series[0].to_dict()"
   ]
  },
  {
   "cell_type": "code",
   "execution_count": 50,
   "id": "87e0b2d0",
   "metadata": {},
   "outputs": [
    {
     "data": {
      "application/vnd.jupyter.widget-view+json": {
       "model_id": "93cee80c9fc14589911e7c6983fb43e9",
       "version_major": 2,
       "version_minor": 0
      },
      "text/plain": [
       "  0%|          | 0/4237152 [00:00<?, ?it/s]"
      ]
     },
     "metadata": {},
     "output_type": "display_data"
    }
   ],
   "source": [
    "data['text'] = data['text'].progress_apply(lambda x:text_series[x])\n",
    "data = data.groupby('text', as_index = False).mean()\n",
    "data = data.loc[data['text'].map(lambda x:len(x)>1)]"
   ]
  },
  {
   "cell_type": "code",
   "execution_count": 54,
   "id": "be80de74",
   "metadata": {},
   "outputs": [],
   "source": [
    "weights_target_dict = {'obscene': 1, 'toxic': 1, 'threat': 1,  'insult': 1, 'severe_toxic': 1, 'identity_hate': 2}\n",
    "text_col = 'comment_text'\n",
    "data['y'] = df_processor.set_target(data, average_weights_dict = weights_target_dict)"
   ]
  },
  {
   "cell_type": "code",
   "execution_count": 55,
   "id": "2a321123",
   "metadata": {},
   "outputs": [],
   "source": [
    "data['y'] = (data['y'] - data['y'].min()) / (data['y'].max() - data['y'].min())\n",
    "data['offensiveness_score'] = (data['offensiveness_score'] - data['offensiveness_score'].min()) / (data['offensiveness_score'].max() - data['offensiveness_score'].min())\n",
    "data.loc[data['toxic'].isnull(),'y'] = data.loc[data['toxic'].isnull(),'offensiveness_score']"
   ]
  },
  {
   "cell_type": "markdown",
   "id": "c1dcb8e2",
   "metadata": {},
   "source": [
    "### Tokenizer"
   ]
  },
  {
   "cell_type": "code",
   "execution_count": 58,
   "id": "b7564628",
   "metadata": {},
   "outputs": [],
   "source": [
    "text_col = 'text'"
   ]
  },
  {
   "cell_type": "code",
   "execution_count": 59,
   "id": "f4cd04c8",
   "metadata": {},
   "outputs": [],
   "source": [
    "tokenizer = eb.Embedding()\n",
    "tokenizer.fit(data[text_col])"
   ]
  },
  {
   "cell_type": "code",
   "execution_count": 60,
   "id": "583132be",
   "metadata": {},
   "outputs": [],
   "source": [
    "data_new = utils.sample_binary(data, 'y')\n",
    "y = data_new['y']"
   ]
  },
  {
   "cell_type": "code",
   "execution_count": null,
   "id": "db287288",
   "metadata": {},
   "outputs": [],
   "source": [
    "from sklearn.linear_model import Ridge\n",
    "\n",
    "X_TFIDF = tokenizer.transform('TFIDF', data_new[text_col])\n",
    "model_ridge_TFIDF = Ridge(alpha=0.5)\n",
    "model_ridge_TFIDF.fit(X_TFIDF, y)"
   ]
  },
  {
   "cell_type": "code",
   "execution_count": null,
   "id": "374a752f",
   "metadata": {},
   "outputs": [],
   "source": []
  },
  {
   "cell_type": "code",
   "execution_count": null,
   "id": "56daaab7",
   "metadata": {},
   "outputs": [],
   "source": [
    "# X_BERT = tokenizer.transform('BERT', data_new[text_col], 100)\n",
    "# np.save('BERT_all_text_embedding.npy',X_BERT)\n",
    "\n",
    "# model_ridge_BERT = Ridge(alpha=0.5)\n",
    "\n",
    "# model_ridge_BERT.fit(X_BERT, y)"
   ]
  },
  {
   "cell_type": "code",
   "execution_count": null,
   "id": "31c9d2d2",
   "metadata": {},
   "outputs": [],
   "source": []
  },
  {
   "cell_type": "code",
   "execution_count": null,
   "id": "fef5a9c8",
   "metadata": {},
   "outputs": [],
   "source": [
    "def predict(text_series, text_cleaner_func, tokenizer_transform_func, predict_func,\n",
    "           ):\n",
    "    cleaned_text = text_cleaner_func(text_series)\n",
    "    cleaned_text = tokenizer_transform_func(cleaned_text)\n",
    "    probability =  predict_func(cleaned_text)\n",
    "    return probability\n",
    "def evaluate(text_cleaner_func, tokenizer_transform_func, predict_func):\n",
    "\n",
    "    df_val = pd.read_csv(os.path.join(DATA_PATH,\"toxic-severity-rating/validation_data.csv\"))\n",
    "\n",
    "    p1 = predict(df_val['less_toxic'], \n",
    "                 text_cleaner_func, \n",
    "                 tokenizer_transform_func,\n",
    "                 predict_func\n",
    "                )\n",
    "\n",
    "    p2 = predict(df_val['more_toxic'], \n",
    "                 text_cleaner_func, \n",
    "                 tokenizer_transform_func,\n",
    "                 predict_func\n",
    "                )\n",
    "\n",
    "    return {\"% Correct\":(p1<p2).mean(), \"% Equal\":(p1==p2).mean()}"
   ]
  },
  {
   "cell_type": "code",
   "execution_count": null,
   "id": "f012a47b",
   "metadata": {},
   "outputs": [],
   "source": [
    "df_val = pd.read_csv(os.path.join(DATA_PATH,\"toxic-severity-rating/validation_data.csv\"))"
   ]
  },
  {
   "cell_type": "code",
   "execution_count": null,
   "id": "71ff6b54",
   "metadata": {
    "scrolled": true
   },
   "outputs": [],
   "source": [
    "text_series = df_val['less_toxic']\n",
    "cleaned_text =  df_processor.clean_text(text_series)\n",
    "cleaned_text = tokenizer.transform('TFIDF', cleaned_text)\n",
    "p1 = model_ridge_TFIDF.predict(cleaned_text)\n",
    "\n",
    "text_series = df_val['more_toxic']\n",
    "cleaned_text =  df_processor.clean_text(text_series)\n",
    "cleaned_text = tokenizer.transform('TFIDF', cleaned_text)\n",
    "p2 = model_ridge_TFIDF.predict(cleaned_text)"
   ]
  },
  {
   "cell_type": "code",
   "execution_count": null,
   "id": "ff652b30",
   "metadata": {},
   "outputs": [],
   "source": [
    "{\"% Correct\":(p1<p2).mean(), \"% Equal\":(p1==p2).mean()}"
   ]
  },
  {
   "cell_type": "code",
   "execution_count": null,
   "id": "35dbb23d",
   "metadata": {},
   "outputs": [],
   "source": [
    "text_series = df_val['less_toxic']\n",
    "cleaned_text =  df_processor.clean_text(text_series)\n",
    "cleaned_text = batch_transform(tokenizer, 'BERT', cleaned_text, 100)\n",
    "p1_BERT = model_ridge_BERT.predict(cleaned_text)\n",
    "\n",
    "text_series = df_val['more_toxic']\n",
    "cleaned_text =  df_processor.clean_text(text_series)\n",
    "cleaned_text = batch_transform(tokenizer, 'BERT', cleaned_text, 100)\n",
    "p2_BERT = model_ridge_BERT.predict(cleaned_text)"
   ]
  },
  {
   "cell_type": "code",
   "execution_count": null,
   "id": "f2a57842",
   "metadata": {},
   "outputs": [],
   "source": [
    "{\"% Correct\":(p1_BERT<p2_BERT).mean(), \"% Equal\":(p1_BERT==p2_BERT).mean()}"
   ]
  },
  {
   "cell_type": "code",
   "execution_count": null,
   "id": "0b02d03b",
   "metadata": {},
   "outputs": [],
   "source": [
    " "
   ]
  }
 ],
 "metadata": {
  "kernelspec": {
   "display_name": "Python 3",
   "language": "python",
   "name": "python3"
  },
  "language_info": {
   "codemirror_mode": {
    "name": "ipython",
    "version": 3
   },
   "file_extension": ".py",
   "mimetype": "text/x-python",
   "name": "python",
   "nbconvert_exporter": "python",
   "pygments_lexer": "ipython3",
   "version": "3.8.8"
  }
 },
 "nbformat": 4,
 "nbformat_minor": 5
}
