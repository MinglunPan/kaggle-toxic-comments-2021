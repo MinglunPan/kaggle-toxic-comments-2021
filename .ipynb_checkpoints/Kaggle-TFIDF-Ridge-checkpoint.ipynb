{
 "cells": [
  {
   "cell_type": "code",
   "execution_count": 1,
   "id": "767f5232",
   "metadata": {},
   "outputs": [],
   "source": [
    "import pandas as pd\n",
    "import os\n",
    "import torch\n",
    "import numpy as np\n",
    "import random"
   ]
  },
  {
   "cell_type": "code",
   "execution_count": 2,
   "id": "9e28ff86",
   "metadata": {},
   "outputs": [
    {
     "data": {
      "text/plain": [
       "<module 'Embedding' from '/home/adrian/Projects/Competition/kaggle-toxic-comments-2021/Embedding.py'>"
      ]
     },
     "execution_count": 2,
     "metadata": {},
     "output_type": "execute_result"
    }
   ],
   "source": [
    "from Config import *\n",
    "import TextDataFrame as tdf\n",
    "import utils\n",
    "import Embedding as eb\n",
    "\n",
    "import imp\n",
    "imp.reload(tdf)\n",
    "imp.reload(utils)\n",
    "imp.reload(eb)"
   ]
  },
  {
   "cell_type": "code",
   "execution_count": 3,
   "id": "0d3a402f",
   "metadata": {},
   "outputs": [],
   "source": [
    "def set_seed(seed = 42):\n",
    "    '''Sets the seed of the entire notebook so results are the same every time we run.\n",
    "    This is for REPRODUCIBILITY.'''\n",
    "    np.random.seed(seed)\n",
    "    random.seed(seed)\n",
    "    torch.manual_seed(seed)\n",
    "    torch.cuda.manual_seed(seed)\n",
    "    # When running on the CuDNN backend, two further options must be set\n",
    "    torch.backends.cudnn.deterministic = True\n",
    "    torch.backends.cudnn.benchmark = False\n",
    "    # Set a fixed value for the hash seed\n",
    "    os.environ['PYTHONHASHSEED'] = str(seed)"
   ]
  },
  {
   "cell_type": "code",
   "execution_count": 4,
   "id": "d9875356",
   "metadata": {},
   "outputs": [],
   "source": [
    "set_seed()"
   ]
  },
  {
   "cell_type": "code",
   "execution_count": 5,
   "id": "0ccee24f",
   "metadata": {},
   "outputs": [],
   "source": [
    "df_processor = tdf.DatasetProcessor(DEFAULT_CLEAN_PROCEDURE)"
   ]
  },
  {
   "cell_type": "code",
   "execution_count": 6,
   "id": "a9660249",
   "metadata": {},
   "outputs": [],
   "source": [
    "from sklearn.linear_model import Ridge\n",
    "\n",
    "model_ridge = Ridge(alpha=0.5)"
   ]
  },
  {
   "cell_type": "markdown",
   "id": "a2f38709",
   "metadata": {},
   "source": [
    "### Read Data"
   ]
  },
  {
   "cell_type": "code",
   "execution_count": 7,
   "id": "7485d572",
   "metadata": {},
   "outputs": [],
   "source": [
    "weights_target_dict = {'obscene': 0.16, 'toxic': 0.32, 'threat': 1.5,  'insult': 0.64, 'severe_toxic': 1.5, 'identity_hate': 1.5}\n",
    "text_col = 'comment_text'"
   ]
  },
  {
   "cell_type": "code",
   "execution_count": 8,
   "id": "6ab4e8bc",
   "metadata": {},
   "outputs": [],
   "source": [
    "df_train = pd.read_csv(os.path.join(DATA_PATH,\"toxic-comment-classification-challenge/train.csv\"))"
   ]
  },
  {
   "cell_type": "code",
   "execution_count": 9,
   "id": "5c5c1fc8",
   "metadata": {},
   "outputs": [
    {
     "data": {
      "application/vnd.jupyter.widget-view+json": {
       "model_id": "b14db1ee6c784fce8e320ebc6818b7c9",
       "version_major": 2,
       "version_minor": 0
      },
      "text/plain": [
       "  0%|          | 0/159571 [00:00<?, ?it/s]"
      ]
     },
     "metadata": {},
     "output_type": "display_data"
    },
    {
     "name": "stderr",
     "output_type": "stream",
     "text": [
      "/home/adrian/anaconda3/lib/python3.8/site-packages/bs4/__init__.py:417: MarkupResemblesLocatorWarning: \"http://en.wikipedia.org/wiki/Wikipedia_talk:No_original_research/archive15#YouTube_art_as_primary_source\" looks like a URL. Beautiful Soup is not an HTTP client. You should probably use an HTTP client like requests to get the document behind the URL, and feed that document to Beautiful Soup.\n",
      "  warnings.warn(\n",
      "/home/adrian/anaconda3/lib/python3.8/site-packages/bs4/__init__.py:417: MarkupResemblesLocatorWarning: \"http://finance.yahoo.com/news/7-fascinating-nuggets-another-bewildering-150348488.html\" looks like a URL. Beautiful Soup is not an HTTP client. You should probably use an HTTP client like requests to get the document behind the URL, and feed that document to Beautiful Soup.\n",
      "  warnings.warn(\n",
      "/home/adrian/anaconda3/lib/python3.8/site-packages/bs4/__init__.py:417: MarkupResemblesLocatorWarning: \"http://en.wikipedia.org/wiki/Wikipedia:ELYES\" looks like a URL. Beautiful Soup is not an HTTP client. You should probably use an HTTP client like requests to get the document behind the URL, and feed that document to Beautiful Soup.\n",
      "  warnings.warn(\n",
      "/home/adrian/anaconda3/lib/python3.8/site-packages/bs4/__init__.py:417: MarkupResemblesLocatorWarning: \"http://www.haaretz.com/news/diplomacy-defense/2-279-calories-per-person-how-israel-made-sure-gaza-didn-t-starve.premium-1.470419\" looks like a URL. Beautiful Soup is not an HTTP client. You should probably use an HTTP client like requests to get the document behind the URL, and feed that document to Beautiful Soup.\n",
      "  warnings.warn(\n"
     ]
    }
   ],
   "source": [
    "df_train['y'] = df_processor.set_target(df_train, average_weights_dict = weights_target_dict)\n",
    "df_train[text_col] = df_processor.clean_text(df_train[text_col])"
   ]
  },
  {
   "cell_type": "code",
   "execution_count": 10,
   "id": "f4cd04c8",
   "metadata": {},
   "outputs": [],
   "source": [
    "tokenizer = eb.Embedding()\n",
    "tokenizer.fit(df_train[text_col])"
   ]
  },
  {
   "cell_type": "code",
   "execution_count": null,
   "id": "a35f1e31",
   "metadata": {},
   "outputs": [],
   "source": [
    "df_train_new = utils.sample_binary(df_train, 'y')\n",
    "\n",
    "X = tokenizer.transform('TFIDF', df_train_new[text_col])\n",
    "y = df_train_new['y']"
   ]
  },
  {
   "cell_type": "code",
   "execution_count": null,
   "id": "c26aff86",
   "metadata": {},
   "outputs": [],
   "source": [
    "X_TFIDF = tokenizer.transform('TFIDF', df_train_new[text_col])\n",
    "X_BERT = tokenizer.transform('BERT', df_train_new[text_col])"
   ]
  },
  {
   "cell_type": "code",
   "execution_count": 1,
   "id": "fef5a9c8",
   "metadata": {},
   "outputs": [],
   "source": [
    "def predict(text_series, text_cleaner_func, tokenizer_transform_func, predict_func,\n",
    "           ):\n",
    "    cleaned_text = text_cleaner_func(text_series)\n",
    "    cleaned_text = tokenizer_transform_func(cleaned_text)\n",
    "    probability =  predict_func(cleaned_text)\n",
    "    return probability\n",
    "def evaluate():\n",
    "\n",
    "    df_val = pd.read_csv(os.path.join(DATA_PATH,\"toxic-severity-rating/validation_data.csv\"))\n",
    "\n",
    "    p1 = predict(df_val['less_toxic'], \n",
    "                 df_processor.clean_text, \n",
    "                 tfidf_tokenizer.transform,\n",
    "                 model_ridge.predict\n",
    "                )\n",
    "\n",
    "    p2 = predict(df_val['more_toxic'], \n",
    "                 df_processor.clean_text, \n",
    "                 tfidf_tokenizer.transform,\n",
    "                 model_ridge.predict\n",
    "                )\n",
    "\n",
    "    return {\"% Correct\":(p1<p2).mean(), \"% Equal\":(p1==p2).mean()}"
   ]
  },
  {
   "cell_type": "code",
   "execution_count": 24,
   "id": "359598c1",
   "metadata": {},
   "outputs": [
    {
     "data": {
      "application/vnd.jupyter.widget-view+json": {
       "model_id": "5c220f48bcb744f2a052dc5814cfcb76",
       "version_major": 2,
       "version_minor": 0
      },
      "text/plain": [
       "  0%|          | 0/30108 [00:00<?, ?it/s]"
      ]
     },
     "metadata": {},
     "output_type": "display_data"
    },
    {
     "data": {
      "application/vnd.jupyter.widget-view+json": {
       "model_id": "09f3d7709cac4a04af22c416084d43cd",
       "version_major": 2,
       "version_minor": 0
      },
      "text/plain": [
       "  0%|          | 0/30108 [00:00<?, ?it/s]"
      ]
     },
     "metadata": {},
     "output_type": "display_data"
    },
    {
     "data": {
      "text/plain": [
       "{'% Correct': 0.6691576989504451, '% Equal': 0.0}"
      ]
     },
     "execution_count": 24,
     "metadata": {},
     "output_type": "execute_result"
    }
   ],
   "source": [
    "evaluate()"
   ]
  },
  {
   "cell_type": "code",
   "execution_count": 30,
   "id": "5ca45a8a",
   "metadata": {},
   "outputs": [],
   "source": []
  }
 ],
 "metadata": {
  "kernelspec": {
   "display_name": "Python 3",
   "language": "python",
   "name": "python3"
  },
  "language_info": {
   "codemirror_mode": {
    "name": "ipython",
    "version": 3
   },
   "file_extension": ".py",
   "mimetype": "text/x-python",
   "name": "python",
   "nbconvert_exporter": "python",
   "pygments_lexer": "ipython3",
   "version": "3.8.8"
  }
 },
 "nbformat": 4,
 "nbformat_minor": 5
}
